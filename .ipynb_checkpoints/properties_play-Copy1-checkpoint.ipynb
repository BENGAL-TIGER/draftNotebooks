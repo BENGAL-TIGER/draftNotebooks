{
 "cells": [
  {
   "cell_type": "markdown",
   "metadata": {},
   "source": [
    "# testing a lot of stuff"
   ]
  },
  {
   "cell_type": "code",
   "execution_count": 1,
   "metadata": {},
   "outputs": [
    {
     "data": {
      "text/html": [
       "\n",
       "    <div class=\"bk-root\">\n",
       "        <a href=\"https://bokeh.pydata.org\" target=\"_blank\" class=\"bk-logo bk-logo-small bk-logo-notebook\"></a>\n",
       "        <span id=\"9dd0c075-44bd-4f99-9800-bfe6129c65f7\">Loading BokehJS ...</span>\n",
       "    </div>"
      ]
     },
     "metadata": {},
     "output_type": "display_data"
    },
    {
     "data": {
      "application/javascript": [
       "\n",
       "(function(root) {\n",
       "  function now() {\n",
       "    return new Date();\n",
       "  }\n",
       "\n",
       "  var force = true;\n",
       "\n",
       "  if (typeof (root._bokeh_onload_callbacks) === \"undefined\" || force === true) {\n",
       "    root._bokeh_onload_callbacks = [];\n",
       "    root._bokeh_is_loading = undefined;\n",
       "  }\n",
       "\n",
       "  var JS_MIME_TYPE = 'application/javascript';\n",
       "  var HTML_MIME_TYPE = 'text/html';\n",
       "  var EXEC_MIME_TYPE = 'application/vnd.bokehjs_exec.v0+json';\n",
       "  var CLASS_NAME = 'output_bokeh rendered_html';\n",
       "\n",
       "  /**\n",
       "   * Render data to the DOM node\n",
       "   */\n",
       "  function render(props, node) {\n",
       "    var script = document.createElement(\"script\");\n",
       "    node.appendChild(script);\n",
       "  }\n",
       "\n",
       "  /**\n",
       "   * Handle when an output is cleared or removed\n",
       "   */\n",
       "  function handleClearOutput(event, handle) {\n",
       "    var cell = handle.cell;\n",
       "\n",
       "    var id = cell.output_area._bokeh_element_id;\n",
       "    var server_id = cell.output_area._bokeh_server_id;\n",
       "    // Clean up Bokeh references\n",
       "    if (id !== undefined) {\n",
       "      Bokeh.index[id].model.document.clear();\n",
       "      delete Bokeh.index[id];\n",
       "    }\n",
       "\n",
       "    if (server_id !== undefined) {\n",
       "      // Clean up Bokeh references\n",
       "      var cmd = \"from bokeh.io.state import curstate; print(curstate().uuid_to_server['\" + server_id + \"'].get_sessions()[0].document.roots[0]._id)\";\n",
       "      cell.notebook.kernel.execute(cmd, {\n",
       "        iopub: {\n",
       "          output: function(msg) {\n",
       "            var element_id = msg.content.text.trim();\n",
       "            Bokeh.index[element_id].model.document.clear();\n",
       "            delete Bokeh.index[element_id];\n",
       "          }\n",
       "        }\n",
       "      });\n",
       "      // Destroy server and session\n",
       "      var cmd = \"import bokeh.io.notebook as ion; ion.destroy_server('\" + server_id + \"')\";\n",
       "      cell.notebook.kernel.execute(cmd);\n",
       "    }\n",
       "  }\n",
       "\n",
       "  /**\n",
       "   * Handle when a new output is added\n",
       "   */\n",
       "  function handleAddOutput(event, handle) {\n",
       "    var output_area = handle.output_area;\n",
       "    var output = handle.output;\n",
       "\n",
       "    // limit handleAddOutput to display_data with EXEC_MIME_TYPE content only\n",
       "    if ((output.output_type != \"display_data\") || (!output.data.hasOwnProperty(EXEC_MIME_TYPE))) {\n",
       "      return\n",
       "    }\n",
       "\n",
       "    var toinsert = output_area.element.find(\".\" + CLASS_NAME.split(' ')[0]);\n",
       "\n",
       "    if (output.metadata[EXEC_MIME_TYPE][\"id\"] !== undefined) {\n",
       "      toinsert[toinsert.length - 1].firstChild.textContent = output.data[JS_MIME_TYPE];\n",
       "      // store reference to embed id on output_area\n",
       "      output_area._bokeh_element_id = output.metadata[EXEC_MIME_TYPE][\"id\"];\n",
       "    }\n",
       "    if (output.metadata[EXEC_MIME_TYPE][\"server_id\"] !== undefined) {\n",
       "      var bk_div = document.createElement(\"div\");\n",
       "      bk_div.innerHTML = output.data[HTML_MIME_TYPE];\n",
       "      var script_attrs = bk_div.children[0].attributes;\n",
       "      for (var i = 0; i < script_attrs.length; i++) {\n",
       "        toinsert[toinsert.length - 1].firstChild.setAttribute(script_attrs[i].name, script_attrs[i].value);\n",
       "      }\n",
       "      // store reference to server id on output_area\n",
       "      output_area._bokeh_server_id = output.metadata[EXEC_MIME_TYPE][\"server_id\"];\n",
       "    }\n",
       "  }\n",
       "\n",
       "  function register_renderer(events, OutputArea) {\n",
       "\n",
       "    function append_mime(data, metadata, element) {\n",
       "      // create a DOM node to render to\n",
       "      var toinsert = this.create_output_subarea(\n",
       "        metadata,\n",
       "        CLASS_NAME,\n",
       "        EXEC_MIME_TYPE\n",
       "      );\n",
       "      this.keyboard_manager.register_events(toinsert);\n",
       "      // Render to node\n",
       "      var props = {data: data, metadata: metadata[EXEC_MIME_TYPE]};\n",
       "      render(props, toinsert[toinsert.length - 1]);\n",
       "      element.append(toinsert);\n",
       "      return toinsert\n",
       "    }\n",
       "\n",
       "    /* Handle when an output is cleared or removed */\n",
       "    events.on('clear_output.CodeCell', handleClearOutput);\n",
       "    events.on('delete.Cell', handleClearOutput);\n",
       "\n",
       "    /* Handle when a new output is added */\n",
       "    events.on('output_added.OutputArea', handleAddOutput);\n",
       "\n",
       "    /**\n",
       "     * Register the mime type and append_mime function with output_area\n",
       "     */\n",
       "    OutputArea.prototype.register_mime_type(EXEC_MIME_TYPE, append_mime, {\n",
       "      /* Is output safe? */\n",
       "      safe: true,\n",
       "      /* Index of renderer in `output_area.display_order` */\n",
       "      index: 0\n",
       "    });\n",
       "  }\n",
       "\n",
       "  // register the mime type if in Jupyter Notebook environment and previously unregistered\n",
       "  if (root.Jupyter !== undefined) {\n",
       "    var events = require('base/js/events');\n",
       "    var OutputArea = require('notebook/js/outputarea').OutputArea;\n",
       "\n",
       "    if (OutputArea.prototype.mime_types().indexOf(EXEC_MIME_TYPE) == -1) {\n",
       "      register_renderer(events, OutputArea);\n",
       "    }\n",
       "  }\n",
       "\n",
       "  \n",
       "  if (typeof (root._bokeh_timeout) === \"undefined\" || force === true) {\n",
       "    root._bokeh_timeout = Date.now() + 5000;\n",
       "    root._bokeh_failed_load = false;\n",
       "  }\n",
       "\n",
       "  var NB_LOAD_WARNING = {'data': {'text/html':\n",
       "     \"<div style='background-color: #fdd'>\\n\"+\n",
       "     \"<p>\\n\"+\n",
       "     \"BokehJS does not appear to have successfully loaded. If loading BokehJS from CDN, this \\n\"+\n",
       "     \"may be due to a slow or bad network connection. Possible fixes:\\n\"+\n",
       "     \"</p>\\n\"+\n",
       "     \"<ul>\\n\"+\n",
       "     \"<li>re-rerun `output_notebook()` to attempt to load from CDN again, or</li>\\n\"+\n",
       "     \"<li>use INLINE resources instead, as so:</li>\\n\"+\n",
       "     \"</ul>\\n\"+\n",
       "     \"<code>\\n\"+\n",
       "     \"from bokeh.resources import INLINE\\n\"+\n",
       "     \"output_notebook(resources=INLINE)\\n\"+\n",
       "     \"</code>\\n\"+\n",
       "     \"</div>\"}};\n",
       "\n",
       "  function display_loaded() {\n",
       "    var el = document.getElementById(\"9dd0c075-44bd-4f99-9800-bfe6129c65f7\");\n",
       "    if (el != null) {\n",
       "      el.textContent = \"BokehJS is loading...\";\n",
       "    }\n",
       "    if (root.Bokeh !== undefined) {\n",
       "      if (el != null) {\n",
       "        el.textContent = \"BokehJS \" + root.Bokeh.version + \" successfully loaded.\";\n",
       "      }\n",
       "    } else if (Date.now() < root._bokeh_timeout) {\n",
       "      setTimeout(display_loaded, 100)\n",
       "    }\n",
       "  }\n",
       "\n",
       "\n",
       "  function run_callbacks() {\n",
       "    try {\n",
       "      root._bokeh_onload_callbacks.forEach(function(callback) { callback() });\n",
       "    }\n",
       "    finally {\n",
       "      delete root._bokeh_onload_callbacks\n",
       "    }\n",
       "    console.info(\"Bokeh: all callbacks have finished\");\n",
       "  }\n",
       "\n",
       "  function load_libs(js_urls, callback) {\n",
       "    root._bokeh_onload_callbacks.push(callback);\n",
       "    if (root._bokeh_is_loading > 0) {\n",
       "      console.log(\"Bokeh: BokehJS is being loaded, scheduling callback at\", now());\n",
       "      return null;\n",
       "    }\n",
       "    if (js_urls == null || js_urls.length === 0) {\n",
       "      run_callbacks();\n",
       "      return null;\n",
       "    }\n",
       "    console.log(\"Bokeh: BokehJS not loaded, scheduling load and callback at\", now());\n",
       "    root._bokeh_is_loading = js_urls.length;\n",
       "    for (var i = 0; i < js_urls.length; i++) {\n",
       "      var url = js_urls[i];\n",
       "      var s = document.createElement('script');\n",
       "      s.src = url;\n",
       "      s.async = false;\n",
       "      s.onreadystatechange = s.onload = function() {\n",
       "        root._bokeh_is_loading--;\n",
       "        if (root._bokeh_is_loading === 0) {\n",
       "          console.log(\"Bokeh: all BokehJS libraries loaded\");\n",
       "          run_callbacks()\n",
       "        }\n",
       "      };\n",
       "      s.onerror = function() {\n",
       "        console.warn(\"failed to load library \" + url);\n",
       "      };\n",
       "      console.log(\"Bokeh: injecting script tag for BokehJS library: \", url);\n",
       "      document.getElementsByTagName(\"head\")[0].appendChild(s);\n",
       "    }\n",
       "  };var element = document.getElementById(\"9dd0c075-44bd-4f99-9800-bfe6129c65f7\");\n",
       "  if (element == null) {\n",
       "    console.log(\"Bokeh: ERROR: autoload.js configured with elementid '9dd0c075-44bd-4f99-9800-bfe6129c65f7' but no matching script tag was found. \")\n",
       "    return false;\n",
       "  }\n",
       "\n",
       "  var js_urls = [\"https://cdn.pydata.org/bokeh/release/bokeh-0.12.16.min.js\", \"https://cdn.pydata.org/bokeh/release/bokeh-widgets-0.12.16.min.js\", \"https://cdn.pydata.org/bokeh/release/bokeh-tables-0.12.16.min.js\", \"https://cdn.pydata.org/bokeh/release/bokeh-gl-0.12.16.min.js\"];\n",
       "\n",
       "  var inline_js = [\n",
       "    function(Bokeh) {\n",
       "      Bokeh.set_log_level(\"info\");\n",
       "    },\n",
       "    \n",
       "    function(Bokeh) {\n",
       "      \n",
       "    },\n",
       "    function(Bokeh) {\n",
       "      console.log(\"Bokeh: injecting CSS: https://cdn.pydata.org/bokeh/release/bokeh-0.12.16.min.css\");\n",
       "      Bokeh.embed.inject_css(\"https://cdn.pydata.org/bokeh/release/bokeh-0.12.16.min.css\");\n",
       "      console.log(\"Bokeh: injecting CSS: https://cdn.pydata.org/bokeh/release/bokeh-widgets-0.12.16.min.css\");\n",
       "      Bokeh.embed.inject_css(\"https://cdn.pydata.org/bokeh/release/bokeh-widgets-0.12.16.min.css\");\n",
       "      console.log(\"Bokeh: injecting CSS: https://cdn.pydata.org/bokeh/release/bokeh-tables-0.12.16.min.css\");\n",
       "      Bokeh.embed.inject_css(\"https://cdn.pydata.org/bokeh/release/bokeh-tables-0.12.16.min.css\");\n",
       "    }\n",
       "  ];\n",
       "\n",
       "  function run_inline_js() {\n",
       "    \n",
       "    if ((root.Bokeh !== undefined) || (force === true)) {\n",
       "      for (var i = 0; i < inline_js.length; i++) {\n",
       "        inline_js[i].call(root, root.Bokeh);\n",
       "      }if (force === true) {\n",
       "        display_loaded();\n",
       "      }} else if (Date.now() < root._bokeh_timeout) {\n",
       "      setTimeout(run_inline_js, 100);\n",
       "    } else if (!root._bokeh_failed_load) {\n",
       "      console.log(\"Bokeh: BokehJS failed to load within specified timeout.\");\n",
       "      root._bokeh_failed_load = true;\n",
       "    } else if (force !== true) {\n",
       "      var cell = $(document.getElementById(\"9dd0c075-44bd-4f99-9800-bfe6129c65f7\")).parents('.cell').data().cell;\n",
       "      cell.output_area.append_execute_result(NB_LOAD_WARNING)\n",
       "    }\n",
       "\n",
       "  }\n",
       "\n",
       "  if (root._bokeh_is_loading === 0) {\n",
       "    console.log(\"Bokeh: BokehJS loaded, going straight to plotting\");\n",
       "    run_inline_js();\n",
       "  } else {\n",
       "    load_libs(js_urls, function() {\n",
       "      console.log(\"Bokeh: BokehJS plotting callback run at\", now());\n",
       "      run_inline_js();\n",
       "    });\n",
       "  }\n",
       "}(window));"
      ],
      "application/vnd.bokehjs_load.v0+json": "\n(function(root) {\n  function now() {\n    return new Date();\n  }\n\n  var force = true;\n\n  if (typeof (root._bokeh_onload_callbacks) === \"undefined\" || force === true) {\n    root._bokeh_onload_callbacks = [];\n    root._bokeh_is_loading = undefined;\n  }\n\n  \n\n  \n  if (typeof (root._bokeh_timeout) === \"undefined\" || force === true) {\n    root._bokeh_timeout = Date.now() + 5000;\n    root._bokeh_failed_load = false;\n  }\n\n  var NB_LOAD_WARNING = {'data': {'text/html':\n     \"<div style='background-color: #fdd'>\\n\"+\n     \"<p>\\n\"+\n     \"BokehJS does not appear to have successfully loaded. If loading BokehJS from CDN, this \\n\"+\n     \"may be due to a slow or bad network connection. Possible fixes:\\n\"+\n     \"</p>\\n\"+\n     \"<ul>\\n\"+\n     \"<li>re-rerun `output_notebook()` to attempt to load from CDN again, or</li>\\n\"+\n     \"<li>use INLINE resources instead, as so:</li>\\n\"+\n     \"</ul>\\n\"+\n     \"<code>\\n\"+\n     \"from bokeh.resources import INLINE\\n\"+\n     \"output_notebook(resources=INLINE)\\n\"+\n     \"</code>\\n\"+\n     \"</div>\"}};\n\n  function display_loaded() {\n    var el = document.getElementById(\"9dd0c075-44bd-4f99-9800-bfe6129c65f7\");\n    if (el != null) {\n      el.textContent = \"BokehJS is loading...\";\n    }\n    if (root.Bokeh !== undefined) {\n      if (el != null) {\n        el.textContent = \"BokehJS \" + root.Bokeh.version + \" successfully loaded.\";\n      }\n    } else if (Date.now() < root._bokeh_timeout) {\n      setTimeout(display_loaded, 100)\n    }\n  }\n\n\n  function run_callbacks() {\n    try {\n      root._bokeh_onload_callbacks.forEach(function(callback) { callback() });\n    }\n    finally {\n      delete root._bokeh_onload_callbacks\n    }\n    console.info(\"Bokeh: all callbacks have finished\");\n  }\n\n  function load_libs(js_urls, callback) {\n    root._bokeh_onload_callbacks.push(callback);\n    if (root._bokeh_is_loading > 0) {\n      console.log(\"Bokeh: BokehJS is being loaded, scheduling callback at\", now());\n      return null;\n    }\n    if (js_urls == null || js_urls.length === 0) {\n      run_callbacks();\n      return null;\n    }\n    console.log(\"Bokeh: BokehJS not loaded, scheduling load and callback at\", now());\n    root._bokeh_is_loading = js_urls.length;\n    for (var i = 0; i < js_urls.length; i++) {\n      var url = js_urls[i];\n      var s = document.createElement('script');\n      s.src = url;\n      s.async = false;\n      s.onreadystatechange = s.onload = function() {\n        root._bokeh_is_loading--;\n        if (root._bokeh_is_loading === 0) {\n          console.log(\"Bokeh: all BokehJS libraries loaded\");\n          run_callbacks()\n        }\n      };\n      s.onerror = function() {\n        console.warn(\"failed to load library \" + url);\n      };\n      console.log(\"Bokeh: injecting script tag for BokehJS library: \", url);\n      document.getElementsByTagName(\"head\")[0].appendChild(s);\n    }\n  };var element = document.getElementById(\"9dd0c075-44bd-4f99-9800-bfe6129c65f7\");\n  if (element == null) {\n    console.log(\"Bokeh: ERROR: autoload.js configured with elementid '9dd0c075-44bd-4f99-9800-bfe6129c65f7' but no matching script tag was found. \")\n    return false;\n  }\n\n  var js_urls = [\"https://cdn.pydata.org/bokeh/release/bokeh-0.12.16.min.js\", \"https://cdn.pydata.org/bokeh/release/bokeh-widgets-0.12.16.min.js\", \"https://cdn.pydata.org/bokeh/release/bokeh-tables-0.12.16.min.js\", \"https://cdn.pydata.org/bokeh/release/bokeh-gl-0.12.16.min.js\"];\n\n  var inline_js = [\n    function(Bokeh) {\n      Bokeh.set_log_level(\"info\");\n    },\n    \n    function(Bokeh) {\n      \n    },\n    function(Bokeh) {\n      console.log(\"Bokeh: injecting CSS: https://cdn.pydata.org/bokeh/release/bokeh-0.12.16.min.css\");\n      Bokeh.embed.inject_css(\"https://cdn.pydata.org/bokeh/release/bokeh-0.12.16.min.css\");\n      console.log(\"Bokeh: injecting CSS: https://cdn.pydata.org/bokeh/release/bokeh-widgets-0.12.16.min.css\");\n      Bokeh.embed.inject_css(\"https://cdn.pydata.org/bokeh/release/bokeh-widgets-0.12.16.min.css\");\n      console.log(\"Bokeh: injecting CSS: https://cdn.pydata.org/bokeh/release/bokeh-tables-0.12.16.min.css\");\n      Bokeh.embed.inject_css(\"https://cdn.pydata.org/bokeh/release/bokeh-tables-0.12.16.min.css\");\n    }\n  ];\n\n  function run_inline_js() {\n    \n    if ((root.Bokeh !== undefined) || (force === true)) {\n      for (var i = 0; i < inline_js.length; i++) {\n        inline_js[i].call(root, root.Bokeh);\n      }if (force === true) {\n        display_loaded();\n      }} else if (Date.now() < root._bokeh_timeout) {\n      setTimeout(run_inline_js, 100);\n    } else if (!root._bokeh_failed_load) {\n      console.log(\"Bokeh: BokehJS failed to load within specified timeout.\");\n      root._bokeh_failed_load = true;\n    } else if (force !== true) {\n      var cell = $(document.getElementById(\"9dd0c075-44bd-4f99-9800-bfe6129c65f7\")).parents('.cell').data().cell;\n      cell.output_area.append_execute_result(NB_LOAD_WARNING)\n    }\n\n  }\n\n  if (root._bokeh_is_loading === 0) {\n    console.log(\"Bokeh: BokehJS loaded, going straight to plotting\");\n    run_inline_js();\n  } else {\n    load_libs(js_urls, function() {\n      console.log(\"Bokeh: BokehJS plotting callback run at\", now());\n      run_inline_js();\n    });\n  }\n}(window));"
     },
     "metadata": {},
     "output_type": "display_data"
    }
   ],
   "source": [
    "from ipywidgets import *\n",
    "\n",
    "\n",
    "import matplotlib.pyplot as plt\n",
    "import pint                           # make pint available for use this notebook's code chunks\n",
    "ureg = pint.UnitRegistry()     # make shortcut to the pint unit registry class constructor\n",
    "\n",
    "Q_ = ureg.Quantity     # make shortcut to the pint unit registry class constructor\n",
    "# ureg.setup_matplotlib(True)\n",
    "\n",
    "from IPython.display import Math      # IPython library for extra-pretty LaTeX output. Note the UPPERCASE 'M'\n",
    "import math                           # Python math library. Note the lowercase 'm' \n",
    "import numpy as np\n",
    "\n",
    "from bokeh.io import push_notebook, show, output_notebook\n",
    "from bokeh.plotting import *\n",
    "from bokeh.models import Range1d\n",
    "\n",
    "\n",
    "output_notebook()"
   ]
  },
  {
   "cell_type": "code",
   "execution_count": 2,
   "metadata": {},
   "outputs": [],
   "source": [
    "# ⋮⋮⋮⋮⋮⋮⋮⋮⋮⋮⋮⋮⋮⋮ initialize ⋮⋮⋮⋮⋮⋮⋮⋮⋮⋮⋮⋮⋮⋮⋮⋮⋮⋮⋮⋮⋮⋮⋮⋮⋮⋮⋮⋮⋮⋮⋮⋮⋮⋮⋮⋮⋮⋮⋮⋮⋮⋮⋮⋮⋮⋮⋮⋮⋮⋮⋮⋮⋮⋮⋮⋮⋮⋮⋮⋮⋮⋮⋮⋮⋮⋮⋮⋮⋮⋮⋮⋮⋮⋮⋮⋮⋮⋮⋮⋮⋮⋮⋮⋮⋮⋮⋮⋮⋮⋮⋮⋮⋮⋮⋮⋮⋮⋮⋮⋮⋮⋮⋮⋮⋮⋮⋮⋮⋮⋮⋮⋮⋮⋮⋮⋮⋮⋮⋮⋮⋮⋮⋮⋮⋮⋮\n",
    "n=100\n",
    "ρc = 322 #, \"kg/m**3\")\n",
    "Tc = 647.096 #, \"K\")\n",
    "To = 273.15 #, \"K\")\n",
    "\n",
    "T = np.linspace(To, Tc, n)\n",
    "vf = np.zeros(n)\n",
    "vg = np.zeros(n)\n",
    "ν = np.zeros(n)\n",
    "\n",
    "step = (Tc-To)/(n-1)"
   ]
  },
  {
   "cell_type": "code",
   "execution_count": 3,
   "metadata": {},
   "outputs": [
    {
     "data": {
      "text/plain": [
       "array([ 0.,  1.,  2.,  3.,  4.,  5.,  6.,  7.,  8.,  9., 10., 11., 12.,\n",
       "       13., 14., 15., 16., 17., 18., 19., 20., 21., 22., 23., 24., 25.,\n",
       "       26., 27., 28., 29., 30., 31., 32., 33., 34., 35., 36., 37., 38.,\n",
       "       39., 40., 41., 42., 43., 44., 45., 46., 47., 48., 49., 50., 51.,\n",
       "       52., 53., 54., 55., 56., 57., 58., 59., 60., 61., 62., 63., 64.,\n",
       "       65., 66., 67., 68., 69., 70., 71., 72., 73., 74., 75., 76., 77.,\n",
       "       78., 79., 80., 81., 82., 83., 84., 85., 86., 87., 88., 89., 90.,\n",
       "       91., 92., 93., 94., 95., 96., 97., 98., 99.])"
      ]
     },
     "execution_count": 3,
     "metadata": {},
     "output_type": "execute_result"
    }
   ],
   "source": [
    "(T-To)*(n-1)/(Tc-To)"
   ]
  },
  {
   "cell_type": "code",
   "execution_count": 4,
   "metadata": {},
   "outputs": [],
   "source": [
    "# ⋮⋮⋮⋮⋮⋮⋮⋮⋮⋮⋮⋮⋮⋮ calculate saturation specific volume vf, vg ⋮⋮⋮⋮⋮⋮⋮⋮⋮⋮⋮⋮⋮⋮⋮⋮⋮⋮⋮⋮⋮⋮⋮⋮⋮⋮⋮⋮⋮⋮⋮⋮⋮⋮⋮⋮⋮⋮⋮⋮⋮⋮⋮⋮⋮⋮⋮⋮⋮⋮⋮⋮⋮⋮⋮⋮⋮⋮⋮⋮⋮⋮⋮⋮⋮⋮⋮⋮⋮⋮⋮⋮⋮⋮⋮⋮⋮⋮⋮⋮⋮⋮⋮⋮⋮⋮⋮⋮⋮⋮⋮⋮⋮⋮⋮⋮⋮⋮⋮⋮⋮⋮⋮⋮⋮⋮⋮⋮⋮⋮⋮⋮⋮⋮⋮⋮⋮⋮⋮⋮⋮⋮⋮⋮⋮⋮\n",
    "\n",
    "b = np.array([0, 1.99274064, 1.09965342, -0.510839303, -1.75493479, -45.5170352, -6.74694450e5])\n",
    "c = np.array([0, -2.03150240, -2.68302940, -5.38626492, -17.2991605, -44.7586581, -63.9201063])\n",
    "ν = 1 - T/Tc\n",
    "\n",
    "vf = ((( ρc * (( 1 + b[1]*ν**(1/3) + b[2]*ν**(2/3) + b[3]*ν**(5/3) + b[4]*ν**(16/3) + b[5]*ν**(43/3) + b[6]*ν**(110/3) )) )))**(-1)\n",
    "vg = ((( ρc * np.exp(( c[1]*ν**(2/6) + c[2]*ν**(4/6) + c[3]*ν**(8/6) + c[4]*ν**(18/6) + c[5]*ν**(37/6) + c[6]*ν**(71/6) )) )))**(-1)\n"
   ]
  },
  {
   "cell_type": "code",
   "execution_count": 5,
   "metadata": {},
   "outputs": [],
   "source": [
    "# ⋮⋮⋮⋮⋮⋮⋮⋮⋮⋮⋮⋮⋮⋮ bokeh plot ⋮⋮⋮⋮⋮⋮⋮⋮⋮⋮⋮⋮⋮⋮⋮⋮⋮⋮⋮⋮⋮⋮⋮⋮⋮⋮⋮⋮⋮⋮⋮⋮⋮⋮⋮⋮⋮⋮⋮⋮⋮⋮⋮⋮⋮⋮⋮⋮⋮⋮⋮⋮⋮⋮⋮⋮⋮⋮⋮⋮⋮⋮⋮⋮⋮⋮⋮⋮⋮⋮⋮⋮⋮⋮⋮⋮⋮⋮⋮⋮⋮⋮⋮⋮⋮⋮⋮⋮⋮⋮⋮⋮⋮⋮⋮⋮⋮⋮⋮⋮⋮⋮⋮⋮⋮⋮⋮⋮⋮⋮⋮⋮⋮⋮⋮⋮⋮⋮⋮⋮⋮⋮⋮⋮⋮⋮\n",
    "\n",
    "A = np.int(n/2)\n",
    "x = 0.50\n",
    "\n",
    "xfrac = (x/100)*math.log(vg[A]/vf[A],10)\n",
    "vx = vf[A]*10**xfrac\n",
    "\n",
    "p = figure(plot_width=900, plot_height=400, x_axis_type=\"log\")\n",
    "r = p.multi_line([vf, vg], [T, T], color=[\"blue\", \"blue\"], alpha=[1, 1], line_width=2)\n",
    "\n",
    "sat1 = p.circle([vf[A], vg[A]], [T[A], T[A]], fill_color=\"red\", line_color=\"red\", size=6)\n",
    "sat2 = p.line([vf[A], vg[A]], [T[A], T[A]], line_color=\"red\")\n",
    "\n",
    "qx = p.circle([(vf[A]+vg[A])/2], [T[A]], size=9)\n"
   ]
  },
  {
   "cell_type": "code",
   "execution_count": 6,
   "metadata": {},
   "outputs": [],
   "source": [
    "# ⋮⋮⋮⋮⋮⋮⋮⋮⋮⋮⋮⋮⋮⋮ update plot with slider input ⋮⋮⋮⋮⋮⋮⋮⋮⋮⋮⋮⋮⋮⋮⋮⋮⋮⋮⋮⋮⋮⋮⋮⋮⋮⋮⋮⋮⋮⋮⋮⋮⋮⋮⋮⋮⋮⋮⋮⋮⋮⋮⋮⋮⋮⋮⋮⋮⋮⋮⋮⋮⋮⋮⋮⋮⋮⋮⋮⋮⋮⋮⋮⋮⋮⋮⋮⋮⋮⋮⋮⋮⋮⋮⋮⋮⋮⋮⋮⋮⋮⋮⋮⋮⋮⋮⋮⋮⋮⋮⋮⋮⋮⋮⋮⋮⋮⋮⋮⋮\n",
    "\n",
    "def update(temp=(To+Tc)/2, x=0.505):\n",
    "#     nindex = n*A/100\n",
    "    A = np.int((temp - To)/step)\n",
    "#     A = \n",
    "    \n",
    "    xfrac = (x/1.00)*math.log(vg[A]/vf[A],10)\n",
    "    vx = vf[A]*10**xfrac\n",
    "\n",
    "    print(temp, A, vf[A], vx, vg[A])    \n",
    "    \n",
    "    sat1.data_source.data['y'] = [  T[A],  T[A] ]\n",
    "    sat1.data_source.data['x'] = [ vf[A], vg[A] ]\n",
    "\n",
    "    sat2.data_source.data['y'] = [  T[A],  T[A] ]\n",
    "    sat2.data_source.data['x'] = [ vf[A], vg[A] ]\n",
    "\n",
    "    qx.data_source.data['y'] = [ T[A] ]\n",
    "    qx.data_source.data['x'] = [  vx  ]   \n",
    "\n",
    "    push_notebook()"
   ]
  },
  {
   "cell_type": "code",
   "execution_count": 7,
   "metadata": {},
   "outputs": [
    {
     "data": {
      "text/plain": [
       "50"
      ]
     },
     "execution_count": 7,
     "metadata": {},
     "output_type": "execute_result"
    }
   ],
   "source": [
    "A"
   ]
  },
  {
   "cell_type": "code",
   "execution_count": 8,
   "metadata": {
    "scrolled": false
   },
   "outputs": [
    {
     "data": {
      "text/html": [
       "\n",
       "<div class=\"bk-root\">\n",
       "    <div class=\"bk-plotdiv\" id=\"a639a327-631c-48fb-abf9-c5b03c889773\"></div>\n",
       "</div>"
      ]
     },
     "metadata": {},
     "output_type": "display_data"
    },
    {
     "data": {
      "application/javascript": [
       "(function(root) {\n",
       "  function embed_document(root) {\n",
       "    \n",
       "  var docs_json = {\"bb409ed2-8dbc-44b7-a65e-17ce422edd50\":{\"roots\":{\"references\":[{\"attributes\":{\"source\":{\"id\":\"948b71de-f39b-4b8e-8c2d-b62becd2a6f3\",\"type\":\"ColumnDataSource\"}},\"id\":\"208bb611-aedf-466f-984c-8c2142d05470\",\"type\":\"CDSView\"},{\"attributes\":{\"fill_color\":{\"value\":\"#1f77b4\"},\"line_color\":{\"value\":\"#1f77b4\"},\"size\":{\"units\":\"screen\",\"value\":9},\"x\":{\"field\":\"x\"},\"y\":{\"field\":\"y\"}},\"id\":\"03c40cbb-d029-4fb7-a371-bde2fbca8a51\",\"type\":\"Circle\"},{\"attributes\":{\"active_drag\":\"auto\",\"active_inspect\":\"auto\",\"active_scroll\":\"auto\",\"active_tap\":\"auto\",\"tools\":[{\"id\":\"4748cf14-73b7-4703-b737-ee7e0383162b\",\"type\":\"PanTool\"},{\"id\":\"d02e39b7-a45f-4529-bd4d-8ff3da40cb6c\",\"type\":\"WheelZoomTool\"},{\"id\":\"8b340696-45aa-4bdd-9065-261387e6204b\",\"type\":\"BoxZoomTool\"},{\"id\":\"43f3c78f-9a37-4ea7-87b7-0443f201b52f\",\"type\":\"SaveTool\"},{\"id\":\"1ba6161f-46d2-4207-bf3d-42258e3ecd9d\",\"type\":\"ResetTool\"},{\"id\":\"b4c293a4-c38f-4629-bdc9-64d25e40b7dd\",\"type\":\"HelpTool\"}]},\"id\":\"8eda195d-7df6-41ce-b408-2402bd511edc\",\"type\":\"Toolbar\"},{\"attributes\":{\"fill_alpha\":{\"value\":0.1},\"fill_color\":{\"value\":\"#1f77b4\"},\"line_alpha\":{\"value\":0.1},\"line_color\":{\"value\":\"#1f77b4\"},\"size\":{\"units\":\"screen\",\"value\":6},\"x\":{\"field\":\"x\"},\"y\":{\"field\":\"y\"}},\"id\":\"3b40eb76-2887-4a44-a33f-87ddc14eb3c3\",\"type\":\"Circle\"},{\"attributes\":{\"callback\":null},\"id\":\"1d3db43d-6417-4f37-8f3a-99d173d0e848\",\"type\":\"DataRange1d\"},{\"attributes\":{\"fill_alpha\":{\"value\":0.1},\"fill_color\":{\"value\":\"#1f77b4\"},\"line_alpha\":{\"value\":0.1},\"line_color\":{\"value\":\"#1f77b4\"},\"size\":{\"units\":\"screen\",\"value\":9},\"x\":{\"field\":\"x\"},\"y\":{\"field\":\"y\"}},\"id\":\"62b727a7-2b7b-4f66-b929-a5736417815f\",\"type\":\"Circle\"},{\"attributes\":{\"data_source\":{\"id\":\"cd3c7553-d454-49fc-b405-24a90cc7dc0a\",\"type\":\"ColumnDataSource\"},\"glyph\":{\"id\":\"03c40cbb-d029-4fb7-a371-bde2fbca8a51\",\"type\":\"Circle\"},\"hover_glyph\":null,\"muted_glyph\":null,\"nonselection_glyph\":{\"id\":\"62b727a7-2b7b-4f66-b929-a5736417815f\",\"type\":\"Circle\"},\"selection_glyph\":null,\"view\":{\"id\":\"eb1ccd0f-40c8-4d18-ace5-14731e0078c9\",\"type\":\"CDSView\"}},\"id\":\"378702cf-6118-4b38-9b11-767a8082c319\",\"type\":\"GlyphRenderer\"},{\"attributes\":{\"line_alpha\":{\"value\":0.1},\"line_color\":{\"value\":\"#1f77b4\"},\"line_width\":{\"value\":2},\"xs\":{\"field\":\"xs\"},\"ys\":{\"field\":\"ys\"}},\"id\":\"893da0f6-7919-4d82-a9f3-a0813f0361a8\",\"type\":\"MultiLine\"},{\"attributes\":{\"callback\":null},\"id\":\"66af4187-1f64-4aa5-a9c1-2ea55e3a311c\",\"type\":\"DataRange1d\"},{\"attributes\":{},\"id\":\"7b7c49a3-a290-4c41-8dd0-23b3e310e194\",\"type\":\"UnionRenderers\"},{\"attributes\":{\"source\":{\"id\":\"cd3c7553-d454-49fc-b405-24a90cc7dc0a\",\"type\":\"ColumnDataSource\"}},\"id\":\"eb1ccd0f-40c8-4d18-ace5-14731e0078c9\",\"type\":\"CDSView\"},{\"attributes\":{},\"id\":\"382691a4-2fd0-4594-a4fb-cdc8b178a27f\",\"type\":\"LogScale\"},{\"attributes\":{},\"id\":\"ac5ae3f0-e818-46df-a533-0660ea93c881\",\"type\":\"LinearScale\"},{\"attributes\":{\"line_alpha\":0.1,\"line_color\":\"#1f77b4\",\"x\":{\"field\":\"x\"},\"y\":{\"field\":\"y\"}},\"id\":\"349440d6-a257-4e21-b5a8-b31d4d6fdb5f\",\"type\":\"Line\"},{\"attributes\":{},\"id\":\"76a17618-c56a-4f77-b5b9-9d1143de96bf\",\"type\":\"Selection\"},{\"attributes\":{\"formatter\":{\"id\":\"6e68c81b-ba3a-4420-b41c-50a7f03fcf94\",\"type\":\"LogTickFormatter\"},\"plot\":{\"id\":\"ccb95892-886f-4427-ac1d-05fc1ded786a\",\"subtype\":\"Figure\",\"type\":\"Plot\"},\"ticker\":{\"id\":\"1ac7f49e-f8e8-4efc-b402-464a856bf1ca\",\"type\":\"LogTicker\"}},\"id\":\"722c405a-3d23-4d2c-aa52-c5b4a1e42577\",\"type\":\"LogAxis\"},{\"attributes\":{\"num_minor_ticks\":10},\"id\":\"1ac7f49e-f8e8-4efc-b402-464a856bf1ca\",\"type\":\"LogTicker\"},{\"attributes\":{},\"id\":\"dfa6b2aa-60bd-4511-8e67-1fe64726f836\",\"type\":\"Selection\"},{\"attributes\":{\"plot\":{\"id\":\"ccb95892-886f-4427-ac1d-05fc1ded786a\",\"subtype\":\"Figure\",\"type\":\"Plot\"},\"ticker\":{\"id\":\"1ac7f49e-f8e8-4efc-b402-464a856bf1ca\",\"type\":\"LogTicker\"}},\"id\":\"ca0c41c8-4894-4274-b670-bef3f43f1621\",\"type\":\"Grid\"},{\"attributes\":{\"formatter\":{\"id\":\"f94756df-d07e-4269-9a8f-881dedef7af9\",\"type\":\"BasicTickFormatter\"},\"plot\":{\"id\":\"ccb95892-886f-4427-ac1d-05fc1ded786a\",\"subtype\":\"Figure\",\"type\":\"Plot\"},\"ticker\":{\"id\":\"e75b2c21-c027-4399-866e-5d9ba356185e\",\"type\":\"BasicTicker\"}},\"id\":\"133d593e-80f1-419a-a5d5-c6c1aec1a25a\",\"type\":\"LinearAxis\"},{\"attributes\":{},\"id\":\"e75b2c21-c027-4399-866e-5d9ba356185e\",\"type\":\"BasicTicker\"},{\"attributes\":{\"callback\":null,\"data\":{\"x\":[0.0011397967682221987,0.16016304512576507],\"y\":[462.0116161616162,462.0116161616162]},\"selected\":{\"id\":\"76a17618-c56a-4f77-b5b9-9d1143de96bf\",\"type\":\"Selection\"},\"selection_policy\":{\"id\":\"7b7c49a3-a290-4c41-8dd0-23b3e310e194\",\"type\":\"UnionRenderers\"}},\"id\":\"948b71de-f39b-4b8e-8c2d-b62becd2a6f3\",\"type\":\"ColumnDataSource\"},{\"attributes\":{\"dimension\":1,\"plot\":{\"id\":\"ccb95892-886f-4427-ac1d-05fc1ded786a\",\"subtype\":\"Figure\",\"type\":\"Plot\"},\"ticker\":{\"id\":\"e75b2c21-c027-4399-866e-5d9ba356185e\",\"type\":\"BasicTicker\"}},\"id\":\"b8fc5a49-6bf3-49d8-aecc-bda2dab76adc\",\"type\":\"Grid\"},{\"attributes\":{\"bottom_units\":\"screen\",\"fill_alpha\":{\"value\":0.5},\"fill_color\":{\"value\":\"lightgrey\"},\"left_units\":\"screen\",\"level\":\"overlay\",\"line_alpha\":{\"value\":1.0},\"line_color\":{\"value\":\"black\"},\"line_dash\":[4,4],\"line_width\":{\"value\":2},\"plot\":null,\"render_mode\":\"css\",\"right_units\":\"screen\",\"top_units\":\"screen\"},\"id\":\"1a940a4c-b672-48d7-817d-76c0601f2027\",\"type\":\"BoxAnnotation\"},{\"attributes\":{},\"id\":\"4748cf14-73b7-4703-b737-ee7e0383162b\",\"type\":\"PanTool\"},{\"attributes\":{\"fill_color\":{\"value\":\"red\"},\"line_color\":{\"value\":\"red\"},\"size\":{\"units\":\"screen\",\"value\":6},\"x\":{\"field\":\"x\"},\"y\":{\"field\":\"y\"}},\"id\":\"8282b417-dc29-474c-abc7-b665b90a132f\",\"type\":\"Circle\"},{\"attributes\":{\"line_alpha\":{\"field\":\"line_alpha\"},\"line_color\":{\"field\":\"line_color\"},\"line_width\":{\"value\":2},\"xs\":{\"field\":\"xs\"},\"ys\":{\"field\":\"ys\"}},\"id\":\"8df0b1e1-c35a-4223-ab6f-14335a969054\",\"type\":\"MultiLine\"},{\"attributes\":{},\"id\":\"d02e39b7-a45f-4529-bd4d-8ff3da40cb6c\",\"type\":\"WheelZoomTool\"},{\"attributes\":{},\"id\":\"17c873c4-7895-4450-a2f7-de768b9df84f\",\"type\":\"UnionRenderers\"},{\"attributes\":{\"overlay\":{\"id\":\"1a940a4c-b672-48d7-817d-76c0601f2027\",\"type\":\"BoxAnnotation\"}},\"id\":\"8b340696-45aa-4bdd-9065-261387e6204b\",\"type\":\"BoxZoomTool\"},{\"attributes\":{},\"id\":\"43f3c78f-9a37-4ea7-87b7-0443f201b52f\",\"type\":\"SaveTool\"},{\"attributes\":{},\"id\":\"e3bbe8b8-e0b7-4fbd-9b23-197e99a04b10\",\"type\":\"UnionRenderers\"},{\"attributes\":{},\"id\":\"1ba6161f-46d2-4207-bf3d-42258e3ecd9d\",\"type\":\"ResetTool\"},{\"attributes\":{},\"id\":\"a654686b-650b-4057-9250-c54be27461c9\",\"type\":\"Selection\"},{\"attributes\":{},\"id\":\"b4c293a4-c38f-4629-bdc9-64d25e40b7dd\",\"type\":\"HelpTool\"},{\"attributes\":{\"data_source\":{\"id\":\"39c1ce9f-e30b-407e-a34f-1b2d23645b9e\",\"type\":\"ColumnDataSource\"},\"glyph\":{\"id\":\"8df0b1e1-c35a-4223-ab6f-14335a969054\",\"type\":\"MultiLine\"},\"hover_glyph\":null,\"muted_glyph\":null,\"nonselection_glyph\":{\"id\":\"893da0f6-7919-4d82-a9f3-a0813f0361a8\",\"type\":\"MultiLine\"},\"selection_glyph\":null,\"view\":{\"id\":\"b424ded4-4c2b-436d-97cf-8645641bb2b5\",\"type\":\"CDSView\"}},\"id\":\"5d529759-3a09-4bfa-8f17-4929ed931e37\",\"type\":\"GlyphRenderer\"},{\"attributes\":{\"source\":{\"id\":\"39c1ce9f-e30b-407e-a34f-1b2d23645b9e\",\"type\":\"ColumnDataSource\"}},\"id\":\"b424ded4-4c2b-436d-97cf-8645641bb2b5\",\"type\":\"CDSView\"},{\"attributes\":{\"callback\":null,\"data\":{\"x\":[0.08065142094699364],\"y\":[462.0116161616162]},\"selected\":{\"id\":\"e1fbc094-3964-4eda-a2f6-29d1240d7f93\",\"type\":\"Selection\"},\"selection_policy\":{\"id\":\"343c6780-0695-4482-8a81-21b20aa34f96\",\"type\":\"UnionRenderers\"}},\"id\":\"cd3c7553-d454-49fc-b405-24a90cc7dc0a\",\"type\":\"ColumnDataSource\"},{\"attributes\":{},\"id\":\"343c6780-0695-4482-8a81-21b20aa34f96\",\"type\":\"UnionRenderers\"},{\"attributes\":{\"data_source\":{\"id\":\"b8f01f2f-f65b-4adf-a4be-3cb4e2e423ed\",\"type\":\"ColumnDataSource\"},\"glyph\":{\"id\":\"8282b417-dc29-474c-abc7-b665b90a132f\",\"type\":\"Circle\"},\"hover_glyph\":null,\"muted_glyph\":null,\"nonselection_glyph\":{\"id\":\"3b40eb76-2887-4a44-a33f-87ddc14eb3c3\",\"type\":\"Circle\"},\"selection_glyph\":null,\"view\":{\"id\":\"3d3e0bcb-1ed5-4475-920d-03612f238a73\",\"type\":\"CDSView\"}},\"id\":\"15ad4adf-41f6-48c0-9ad7-a6fb7ad627b8\",\"type\":\"GlyphRenderer\"},{\"attributes\":{\"ticker\":null},\"id\":\"6e68c81b-ba3a-4420-b41c-50a7f03fcf94\",\"type\":\"LogTickFormatter\"},{\"attributes\":{},\"id\":\"e1fbc094-3964-4eda-a2f6-29d1240d7f93\",\"type\":\"Selection\"},{\"attributes\":{\"source\":{\"id\":\"b8f01f2f-f65b-4adf-a4be-3cb4e2e423ed\",\"type\":\"ColumnDataSource\"}},\"id\":\"3d3e0bcb-1ed5-4475-920d-03612f238a73\",\"type\":\"CDSView\"},{\"attributes\":{\"line_color\":\"red\",\"x\":{\"field\":\"x\"},\"y\":{\"field\":\"y\"}},\"id\":\"f28aaf89-71af-4bdc-aa77-52a3c74c2052\",\"type\":\"Line\"},{\"attributes\":{\"below\":[{\"id\":\"722c405a-3d23-4d2c-aa52-c5b4a1e42577\",\"type\":\"LogAxis\"}],\"left\":[{\"id\":\"133d593e-80f1-419a-a5d5-c6c1aec1a25a\",\"type\":\"LinearAxis\"}],\"plot_height\":400,\"plot_width\":900,\"renderers\":[{\"id\":\"722c405a-3d23-4d2c-aa52-c5b4a1e42577\",\"type\":\"LogAxis\"},{\"id\":\"ca0c41c8-4894-4274-b670-bef3f43f1621\",\"type\":\"Grid\"},{\"id\":\"133d593e-80f1-419a-a5d5-c6c1aec1a25a\",\"type\":\"LinearAxis\"},{\"id\":\"b8fc5a49-6bf3-49d8-aecc-bda2dab76adc\",\"type\":\"Grid\"},{\"id\":\"1a940a4c-b672-48d7-817d-76c0601f2027\",\"type\":\"BoxAnnotation\"},{\"id\":\"5d529759-3a09-4bfa-8f17-4929ed931e37\",\"type\":\"GlyphRenderer\"},{\"id\":\"15ad4adf-41f6-48c0-9ad7-a6fb7ad627b8\",\"type\":\"GlyphRenderer\"},{\"id\":\"d47d6a01-172a-4142-8a88-cdbc21bdce99\",\"type\":\"GlyphRenderer\"},{\"id\":\"378702cf-6118-4b38-9b11-767a8082c319\",\"type\":\"GlyphRenderer\"}],\"title\":{\"id\":\"29a0bf46-dd9d-4289-a19c-7e6bccb13ed2\",\"type\":\"Title\"},\"toolbar\":{\"id\":\"8eda195d-7df6-41ce-b408-2402bd511edc\",\"type\":\"Toolbar\"},\"x_range\":{\"id\":\"1d3db43d-6417-4f37-8f3a-99d173d0e848\",\"type\":\"DataRange1d\"},\"x_scale\":{\"id\":\"382691a4-2fd0-4594-a4fb-cdc8b178a27f\",\"type\":\"LogScale\"},\"y_range\":{\"id\":\"66af4187-1f64-4aa5-a9c1-2ea55e3a311c\",\"type\":\"DataRange1d\"},\"y_scale\":{\"id\":\"ac5ae3f0-e818-46df-a533-0660ea93c881\",\"type\":\"LinearScale\"}},\"id\":\"ccb95892-886f-4427-ac1d-05fc1ded786a\",\"subtype\":\"Figure\",\"type\":\"Plot\"},{\"attributes\":{\"plot\":null,\"text\":\"\"},\"id\":\"29a0bf46-dd9d-4289-a19c-7e6bccb13ed2\",\"type\":\"Title\"},{\"attributes\":{\"callback\":null,\"data\":{\"x\":[0.0011397967682221987,0.16016304512576507],\"y\":[462.0116161616162,462.0116161616162]},\"selected\":{\"id\":\"dfa6b2aa-60bd-4511-8e67-1fe64726f836\",\"type\":\"Selection\"},\"selection_policy\":{\"id\":\"17c873c4-7895-4450-a2f7-de768b9df84f\",\"type\":\"UnionRenderers\"}},\"id\":\"b8f01f2f-f65b-4adf-a4be-3cb4e2e423ed\",\"type\":\"ColumnDataSource\"},{\"attributes\":{},\"id\":\"f94756df-d07e-4269-9a8f-881dedef7af9\",\"type\":\"BasicTickFormatter\"},{\"attributes\":{\"callback\":null,\"data\":{\"line_alpha\":[1,1],\"line_color\":[\"blue\",\"blue\"],\"xs\":[{\"__ndarray__\":\"izkiBTFjUD+tSPfHoWJQPwNqKr0JY1A/teeYL05kUD8DHieuWWZQP88tnc0aaVA/zdxKPoNsUD9pl3seh3BQP8MQKHkcdVA/ui7r5Dp6UD+psY86239QP/Yf8Fz3hVA/VdacDYqMUD/u5fvKjpNQP2+UfbUBm1A/42Mnet+iUD9mPTBBJatQP5iNv5/Qs1A/jCEgjN+8UD8OH+VTUMZQPyNroJMh0FA/u7zhL1LaUD/CA0dP4eRQP72Jc1XO71A/q5TM3hj7UD/LTuG8wAZRP8D1aPPFElE/8lTGtSgfUT9RqgJl6StRP6eKNI4IOVE/i1dJ6YZGUT+wfilYZVRRP1YfMeakYlE/cuj3x0ZxUT/vFWRbTIBRP15tBSi3j1E/5AK234ifUT+Ca39fw69RP5vWw7BowFE/LlqrCnvRUT8kj9bT/OJRP7RxWKTw9FE/Ulf6R1kHUj/Vtc3AORpSP2BwEEqVLVI/umxpW29BUj+0WoSsy1VSP//dFDmualI/kLdKRRuAUj/gJsJiF5ZSP1yO/XWnrFI/5Ht3vNDDUj87nV7TmNtSP9DuD78F9FI/ca9m8x0NUz/gav1c6CZTP9Tef2tsQVM/l7wyHbJcUz/6gdwLwnhTP1MNQnullVM//m5yaWazUz/hJCihD9JTP53Oks6s8VM/JA3slkoSVD+yVk2z9jNUP5vxUw/AVlQ//ik97LZ6VD8frEgJ7Z9UP2+pW9J1xlQ/oaQXlmbuVD/i3t7E1hdVPzcDmzrgQlU/QxSPlZ9vVT9NXxSdNJ5VP4go57vCzlU/1oKrknEBVj8L1qyobTZWPwy9rELpbVY/xUERah2oVj8ppi8yS+VWP17fPE69JVc/m04+EcppVz9z0y/71bFXP16rFQVX/lc/AQl789hPWD+ViloYA6dYP9nENCKgBFk/Hwiz66hpWT8/EaXOU9dZP9Z5sfYqT1o/2DuB9S3TWj9tNZA9BmZbP3gTVA1dC1w/fE69cnDIXD82r6KCKaVdP2cW8ElZrl4/dCTYIAP7Xz8bl55o6d1gP+xMTyjoPmI/crgM+ORwaT8=\",\"dtype\":\"float64\",\"shape\":[100]},{\"__ndarray__\":\"U0NgB7LEaUA6LUUWt+9jQA+9QnpOGF9AxmyXyF9vWED+UVJeqFdTQIbWgLpz1k5A1yDKB4u/SEAVjC6WY/1DQKdUFMQjP0BAcS7ZHf2QOkAShjfWUdg1QNs0XCzEDzJANmObBVwGLkB0Ge+AOBUpQDH1OWuIDiVA7Ol/dozCIUDVT7fdEhgeQBJANJOcmxlAkVip6bDhFUAFk6Sb2cUSQAKXljEOKxBAjJUN/Cf0C0D5l/TOfUAIQIRXi2v2HAVAg2l2eB1xAkCLrt5rCCkAQGwvv9DbaPw/4TeStt0L+T9j0hQqDCX2Px0Hz4srovM/iXLlmxh08T+yUKtSbRzvP2xQmA31y+s/ZKF0dxjl6D8ao5R99VjmP9CoFRv8GuQ//8Asf4kg4j/caSGglWDgP+Puy0ffpt0/SKHQiQzl2j/l/k7cc3DYP03qcHxtP9Y/8x+s+alJ1D9tJ6+u/YfSP8NJVOQ09NA/3m+uLd4Rzz8PuyY+AIPMP/icC3msM8o/cv1vWMgcyD9/MvA9HTjGPzzlawA5gMQ/tXjvL1Pwwj/Rm5BNNoTBP83NWVYsOMA/zjNRN9wRvj+R/YbzKee7P6/hqB8d67k/GA9EVyQZuD9tadlPL222Pws/dA2f47Q/Zv30Mjh5sz88f0YgFyuyPxDUsZyl9rA/ilQVqyOzrz8Pr6kDjaOtP+8AIgXIuqs/Y+CaunT1qT89azHnh1CoPwUWWrxByaY/M858rCVdpT/rh7g08wmkPySf032fzaI/2pK7uE+moT/zzKseVJKgPzvvcgBHIJ8/r2dcoq48nT8XurpCUHebP8KGCOnUzZk/I72t2Rc+mD+Bszt6IcaWP7KxhLAiZJU/vWqYqXAWlD8jhUz2gNuSP+1duOrlsZE/LIWgLEuYkD/ck2Kz5BqPPzaIUlFfII0/vs8Svcw+iz8r1uW+CXSJP7nuSAgAvoc/T7pZSpoahj8UpHzFs4eEP5iy1bT/AoM/lgs2XOGJgT8JPlzxJBmAPyIY53rlWH0/sI3LjBt6ej/ISax/mXx3P7rtMXxWHnQ/crgM+ORwaT8=\",\"dtype\":\"float64\",\"shape\":[100]}],\"ys\":[{\"__ndarray__\":\"ZmZmZmYScUA7gY/x1U5xQA+cuHxFi3FA5LbhB7XHcUC50QqTJARyQI7sMx6UQHJAYgddqQN9ckA3IoY0c7lyQAw9r7/i9XJA4FfYSlIyc0C1cgHWwW5zQIqNKmExq3NAXqhT7KDnc0Azw3x3ECR0QAjepQKAYHRA3fjOje+cdECxE/gYX9l0QIYuIaTOFXVAW0lKLz5SdUAwZHO6rY51QAR/nEUdy3VA2ZnF0IwHdkCutO5b/EN2QILPF+drgHZAV+pActu8dkAsBWr9Svl2QAAgk4i6NXdA1Tq8Eypyd0CqVeWema53QH5wDioJ63dAU4s3tXgneEAopmBA6GN4QP3AictXoHhA0tuyVsfceECm9tvhNhl5QHsRBW2mVXlAUCwu+BWSeUAkR1eDhc55QPlhgA71CnpAznypmWRHekCil9Ik1IN6QHey+69DwHpATM0kO7P8ekAg6E3GIjl7QPYCd1GSdXtAyh2g3AGye0CeOMlnce57QHRT8vLgKnxASG4bflBnfEAdiUQJwKN8QPKjbZQv4HxAxr6WH58cfUCb2b+qDll9QHD06DV+lX1ARA8Swe3RfUAZKjtMXQ5+QO5EZNfMSn5Awl+NYjyHfkCXerbtq8N+QGyV33gbAH9AQLAIBIs8f0AWyzGP+nh/QOrlWhpqtX9AvwCEpdnxf0DKjVaYJBeAQDQb611cNYBAnqh/I5RTgEAJNhTpy3GAQHPDqK4DkIBA3lA9dDuugEBI3tE5c8yAQLJrZv+q6oBAHPn6xOIIgUCHho+KGieBQPITJFBSRYFAXKG4FYpjgUDGLk3bwYGBQDC84aD5n4FAmkl2ZjG+gUAF1wosadyBQHBkn/Gg+oFA2vEzt9gYgkBEf8h8EDeCQK4MXUJIVYJAGZrxB4BzgkCDJ4bNt5GCQO60GpPvr4JAWEKvWCfOgkDCz0MeX+yCQCxd2OOWCoNAl+psqc4og0ACeAFvBkeDQGwFljQ+ZYNA1pIq+nWDg0BAIL+/raGDQKutU4Xlv4NAFTvoSh3eg0CAyHwQVfyDQOpVEdaMGoRAVOOlm8Q4hEA=\",\"dtype\":\"float64\",\"shape\":[100]},{\"__ndarray__\":\"ZmZmZmYScUA7gY/x1U5xQA+cuHxFi3FA5LbhB7XHcUC50QqTJARyQI7sMx6UQHJAYgddqQN9ckA3IoY0c7lyQAw9r7/i9XJA4FfYSlIyc0C1cgHWwW5zQIqNKmExq3NAXqhT7KDnc0Azw3x3ECR0QAjepQKAYHRA3fjOje+cdECxE/gYX9l0QIYuIaTOFXVAW0lKLz5SdUAwZHO6rY51QAR/nEUdy3VA2ZnF0IwHdkCutO5b/EN2QILPF+drgHZAV+pActu8dkAsBWr9Svl2QAAgk4i6NXdA1Tq8Eypyd0CqVeWema53QH5wDioJ63dAU4s3tXgneEAopmBA6GN4QP3AictXoHhA0tuyVsfceECm9tvhNhl5QHsRBW2mVXlAUCwu+BWSeUAkR1eDhc55QPlhgA71CnpAznypmWRHekCil9Ik1IN6QHey+69DwHpATM0kO7P8ekAg6E3GIjl7QPYCd1GSdXtAyh2g3AGye0CeOMlnce57QHRT8vLgKnxASG4bflBnfEAdiUQJwKN8QPKjbZQv4HxAxr6WH58cfUCb2b+qDll9QHD06DV+lX1ARA8Swe3RfUAZKjtMXQ5+QO5EZNfMSn5Awl+NYjyHfkCXerbtq8N+QGyV33gbAH9AQLAIBIs8f0AWyzGP+nh/QOrlWhpqtX9AvwCEpdnxf0DKjVaYJBeAQDQb611cNYBAnqh/I5RTgEAJNhTpy3GAQHPDqK4DkIBA3lA9dDuugEBI3tE5c8yAQLJrZv+q6oBAHPn6xOIIgUCHho+KGieBQPITJFBSRYFAXKG4FYpjgUDGLk3bwYGBQDC84aD5n4FAmkl2ZjG+gUAF1wosadyBQHBkn/Gg+oFA2vEzt9gYgkBEf8h8EDeCQK4MXUJIVYJAGZrxB4BzgkCDJ4bNt5GCQO60GpPvr4JAWEKvWCfOgkDCz0MeX+yCQCxd2OOWCoNAl+psqc4og0ACeAFvBkeDQGwFljQ+ZYNA1pIq+nWDg0BAIL+/raGDQKutU4Xlv4NAFTvoSh3eg0CAyHwQVfyDQOpVEdaMGoRAVOOlm8Q4hEA=\",\"dtype\":\"float64\",\"shape\":[100]}]},\"selected\":{\"id\":\"a654686b-650b-4057-9250-c54be27461c9\",\"type\":\"Selection\"},\"selection_policy\":{\"id\":\"e3bbe8b8-e0b7-4fbd-9b23-197e99a04b10\",\"type\":\"UnionRenderers\"}},\"id\":\"39c1ce9f-e30b-407e-a34f-1b2d23645b9e\",\"type\":\"ColumnDataSource\"},{\"attributes\":{\"data_source\":{\"id\":\"948b71de-f39b-4b8e-8c2d-b62becd2a6f3\",\"type\":\"ColumnDataSource\"},\"glyph\":{\"id\":\"f28aaf89-71af-4bdc-aa77-52a3c74c2052\",\"type\":\"Line\"},\"hover_glyph\":null,\"muted_glyph\":null,\"nonselection_glyph\":{\"id\":\"349440d6-a257-4e21-b5a8-b31d4d6fdb5f\",\"type\":\"Line\"},\"selection_glyph\":null,\"view\":{\"id\":\"208bb611-aedf-466f-984c-8c2142d05470\",\"type\":\"CDSView\"}},\"id\":\"d47d6a01-172a-4142-8a88-cdbc21bdce99\",\"type\":\"GlyphRenderer\"}],\"root_ids\":[\"ccb95892-886f-4427-ac1d-05fc1ded786a\"]},\"title\":\"Bokeh Application\",\"version\":\"0.12.16\"}};\n",
       "  var render_items = [{\"docid\":\"bb409ed2-8dbc-44b7-a65e-17ce422edd50\",\"elementid\":\"a639a327-631c-48fb-abf9-c5b03c889773\",\"modelid\":\"ccb95892-886f-4427-ac1d-05fc1ded786a\",\"notebook_comms_target\":\"5fffad95-7a03-4fda-a838-0436b181404d\"}];\n",
       "  root.Bokeh.embed.embed_items_notebook(docs_json, render_items);\n",
       "\n",
       "  }\n",
       "  if (root.Bokeh !== undefined) {\n",
       "    embed_document(root);\n",
       "  } else {\n",
       "    var attempts = 0;\n",
       "    var timer = setInterval(function(root) {\n",
       "      if (root.Bokeh !== undefined) {\n",
       "        embed_document(root);\n",
       "        clearInterval(timer);\n",
       "      }\n",
       "      attempts++;\n",
       "      if (attempts > 100) {\n",
       "        console.log(\"Bokeh: ERROR: Unable to run BokehJS code because BokehJS library is missing\")\n",
       "        clearInterval(timer);\n",
       "      }\n",
       "    }, 10, root)\n",
       "  }\n",
       "})(window);"
      ],
      "application/vnd.bokehjs_exec.v0+json": ""
     },
     "metadata": {
      "application/vnd.bokehjs_exec.v0+json": {
       "id": "ccb95892-886f-4427-ac1d-05fc1ded786a"
      }
     },
     "output_type": "display_data"
    },
    {
     "data": {
      "text/html": [
       "<p><code>&lt;Bokeh Notebook handle for <strong>In[8]</strong>&gt;</code></p>"
      ],
      "text/plain": [
       "<bokeh.io.notebook.CommsHandle at 0x1096e6b38>"
      ]
     },
     "execution_count": 8,
     "metadata": {},
     "output_type": "execute_result"
    }
   ],
   "source": [
    "show(p, notebook_handle=True)"
   ]
  },
  {
   "cell_type": "code",
   "execution_count": 9,
   "metadata": {
    "scrolled": false
   },
   "outputs": [
    {
     "data": {
      "application/vnd.jupyter.widget-view+json": {
       "model_id": "21c6a919063a40419df54c1a13e8bdbc",
       "version_major": 2,
       "version_minor": 0
      },
      "text/plain": [
       "interactive(children=(FloatSlider(value=460.123, description='temp', max=648.0, min=273.0), FloatSlider(value=…"
      ]
     },
     "metadata": {},
     "output_type": "display_data"
    },
    {
     "data": {
      "text/plain": [
       "<function __main__.update(temp=460.123, x=0.505)>"
      ]
     },
     "execution_count": 9,
     "metadata": {},
     "output_type": "execute_result"
    }
   ],
   "source": [
    " interact(update, temp=(np.floor(To),np.floor(Tc)+1), x=(0.000, 1.000, 0.005))"
   ]
  },
  {
   "cell_type": "markdown",
   "metadata": {},
   "source": [
    "⋮⋮⋮⋮⋮⋮⋮⋮⋮⋮ ⋮⋮⋮⋮⋮⋮⋮⋮⋮⋮ ⋮⋮⋮⋮⋮⋮⋮⋮⋮⋮ ⋮⋮⋮⋮⋮⋮⋮⋮⋮⋮ ⋮⋮⋮⋮⋮⋮⋮⋮⋮⋮ ⋮⋮⋮⋮⋮⋮⋮⋮⋮⋮ ⋮⋮⋮⋮⋮⋮⋮⋮⋮⋮ ⋮⋮⋮⋮⋮⋮⋮⋮⋮⋮ ⋮⋮⋮⋮⋮⋮⋮⋮⋮⋮ ⋮⋮⋮⋮⋮⋮⋮⋮⋮⋮ ⋮⋮⋮⋮⋮⋮⋮⋮⋮⋮ "
   ]
  },
  {
   "cell_type": "code",
   "execution_count": null,
   "metadata": {},
   "outputs": [],
   "source": []
  }
 ],
 "metadata": {
  "kernelspec": {
   "display_name": "Python 3",
   "language": "python",
   "name": "python3"
  },
  "language_info": {
   "codemirror_mode": {
    "name": "ipython",
    "version": 3
   },
   "file_extension": ".py",
   "mimetype": "text/x-python",
   "name": "python",
   "nbconvert_exporter": "python",
   "pygments_lexer": "ipython3",
   "version": "3.6.5"
  }
 },
 "nbformat": 4,
 "nbformat_minor": 2
}
